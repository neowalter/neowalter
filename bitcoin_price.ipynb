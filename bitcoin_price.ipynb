{
  "nbformat": 4,
  "nbformat_minor": 0,
  "metadata": {
    "colab": {
      "name": "bitcoin price.ipynb",
      "provenance": [],
      "collapsed_sections": [],
      "authorship_tag": "ABX9TyNvrnioJ1UGhxjWk0ct3wTN"
    },
    "kernelspec": {
      "name": "python3",
      "display_name": "Python 3"
    }
  },
  "cells": [
    {
      "cell_type": "code",
      "metadata": {
        "id": "8z_408XMyFWZ",
        "colab_type": "code",
        "colab": {}
      },
      "source": [
        "import requests\n",
        "from datetime import datetime"
      ],
      "execution_count": 0,
      "outputs": []
    },
    {
      "cell_type": "code",
      "metadata": {
        "id": "kTs8b3BXyKa7",
        "colab_type": "code",
        "colab": {}
      },
      "source": [
        "TICKER_API_URL = 'https://api.coinmarketcap.com/v1/ticker/'"
      ],
      "execution_count": 0,
      "outputs": []
    },
    {
      "cell_type": "code",
      "metadata": {
        "id": "M0uAzQGVyNHz",
        "colab_type": "code",
        "colab": {}
      },
      "source": [
        "def get_latest_crypto_price( crypto ):\n",
        "    response = requests.get(TICKER_API_URL+crypto)\n",
        "    response_json = response.json()\n",
        "    # Convert the price to a floating point number\n",
        "    return float(response_json[0]['price_usd'])"
      ],
      "execution_count": 0,
      "outputs": []
    },
    {
      "cell_type": "code",
      "metadata": {
        "id": "ywbjPyCByPTL",
        "colab_type": "code",
        "outputId": "0ebd8f77-e207-4b40-dd18-879bfa40c8d7",
        "colab": {
          "base_uri": "https://localhost:8080/",
          "height": 34
        }
      },
      "source": [
        "get_latest_crypto_price( 'bitcoin')"
      ],
      "execution_count": 27,
      "outputs": [
        {
          "output_type": "execute_result",
          "data": {
            "text/plain": [
              "9287.72346829"
            ]
          },
          "metadata": {
            "tags": []
          },
          "execution_count": 27
        }
      ]
    },
    {
      "cell_type": "code",
      "metadata": {
        "id": "Vw9mLUvcyULk",
        "colab_type": "code",
        "colab": {}
      },
      "source": [
        "BITCOIN_PRICE_THRESHOLD = 10000"
      ],
      "execution_count": 0,
      "outputs": []
    },
    {
      "cell_type": "code",
      "metadata": {
        "id": "5_NHhBDByXg8",
        "colab_type": "code",
        "colab": {}
      },
      "source": [
        "def main():\n",
        "\n",
        "  last_price = -1\n",
        "  \n",
        "  while True:\n",
        "    \n",
        "    crypto = 'bitcoin'\n",
        "    price = get_latest_crypto_price(crypto)\n",
        "\n",
        "    #year = datetime.now().year\n",
        "    #month = datetime.now().month\n",
        "    #day = datetime.now().day\n",
        "    #hour = datetime.now().hour\n",
        "    #minute = datetime.now().minute\n",
        "    #second = datetime.now().second\n",
        "    #microsecond = datetime.now().microsecond\n",
        "    \n",
        "    now = datetime.now()\n",
        "    now.strftime(\"%Y-%m-%d %H:%M\")#Returns format (YYYY-mm-DDTHH:MM:SS.MS)\n",
        "    \n",
        "    #Check if the crypto currency price is less than your threshold\n",
        "    if price < BITCOIN_PRICE_THRESHOLD:\n",
        "      print(\" \")\n",
        "      print('The Crypto is lower than your threshold')\n",
        "      print(now.isoformat() , ' Bitcoin price = ',price)\n",
        "      print(\" \")\n",
        "    \n",
        "    #Print the price of bitcoin only if the current price is different from the last price\n",
        "    if price != last_price:\n",
        "      print(now.isoformat() , ' Bitcoin price = ',price)\n",
        "      last_price = price #update last_price to be the current price"
      ],
      "execution_count": 0,
      "outputs": []
    },
    {
      "cell_type": "code",
      "metadata": {
        "id": "KPzBrbVVyj7N",
        "colab_type": "code",
        "colab": {}
      },
      "source": [
        "main()"
      ],
      "execution_count": 0,
      "outputs": []
    }
  ]
}