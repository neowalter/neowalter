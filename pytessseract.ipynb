{
  "nbformat": 4,
  "nbformat_minor": 0,
  "metadata": {
    "colab": {
      "name": "Untitled0.ipynb",
      "provenance": [],
      "include_colab_link": true
    },
    "kernelspec": {
      "name": "python3",
      "display_name": "Python 3"
    }
  },
  "cells": [
    {
      "cell_type": "markdown",
      "metadata": {
        "id": "view-in-github",
        "colab_type": "text"
      },
      "source": [
        "<a href=\"https://colab.research.google.com/github/neowalter/neowalter/blob/master/pytessseract.ipynb\" target=\"_parent\"><img src=\"https://colab.research.google.com/assets/colab-badge.svg\" alt=\"Open In Colab\"/></a>"
      ]
    },
    {
      "cell_type": "code",
      "metadata": {
        "id": "zWrJ4mRIUmR0",
        "colab_type": "code",
        "colab": {}
      },
      "source": [
        "from PIL import Image\n",
        "import pytesseract as tes\n",
        "\n",
        "tess.pytesseract.tesseract_cmd = r'filepath including .exe'\n",
        "#C:\\User\\name\\AppData\\Local\\Tesseract-OCR\\tessseract.exe\n",
        "\n",
        "file_name = str(input(\"please input the file name with .jpg or .png\"))\n",
        "\n",
        "dot = \".\"\n",
        "res = file_name.find(dot)\n",
        "\n",
        "if res == -1:\n",
        "    print(\"please input the complete file name\")\n",
        "else:\n",
        "    print(\"file name input correct, file converting\")\n",
        "\n",
        "if file_name.find('.jpg') = 1\n",
        "    print(\"file name input correct, file converting\")\n",
        "  else\n",
        "    print(\"please input the correct file name\")\n",
        "\n",
        "if file_name.find('.png') = 1\n",
        "    print(\"file name input correct, file converting\")\n",
        "  else\n",
        "    print(\"please input the correct file name\")\n",
        "\n",
        "im = Image.open(\"file_name\")\n",
        "\n",
        "txt =tes.image_to_string(Image.open(\"im\"), land=\"eng\")\n",
        "\n",
        "f.write(txt) \n"
      ],
      "execution_count": 0,
      "outputs": []
    }
  ]
}